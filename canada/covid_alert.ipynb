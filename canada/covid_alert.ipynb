{
 "cells": [
  {
   "cell_type": "markdown",
   "metadata": {},
   "source": [
    "# Canada Covid Alert App\n",
    "\n",
    "When the Canadian government released the contact tracing CovidAlert app for mobile phones I thought it was a great idea to help with contact tracing.  The idea being that you would get alerted if you came in contact with someone who was infected so that you could self isolate before the onset of symptoms.  In theory this would all help limit the spread.\n",
    "\n",
    "Unfortunately it never took off as hoped.  This analysis will only look at downloads and what we could possibly derive from the data."
   ]
  },
  {
   "cell_type": "markdown",
   "metadata": {},
   "source": [
    "# Import the libraries"
   ]
  },
  {
   "cell_type": "code",
   "execution_count": 19,
   "metadata": {},
   "outputs": [],
   "source": [
    "import pandas as pd\n",
    "import matplotlib\n",
    "pd.plotting.register_matplotlib_converters()\n",
    "import matplotlib.pyplot as plt\n",
    "%matplotlib inline\n",
    "import seaborn as sns\n",
    "sns.set_style(\"whitegrid\")"
   ]
  },
  {
   "cell_type": "markdown",
   "metadata": {},
   "source": [
    "## The Canadian government releases a daily dataset of Covid Alert downloads to Apple iOS and Google Android"
   ]
  },
  {
   "cell_type": "code",
   "execution_count": 20,
   "metadata": {},
   "outputs": [],
   "source": [
    "df = pd.read_csv('https://data.ontario.ca/dataset/06a61019-62c1-48d8-8d4d-2267ae0f1144/resource/37cfeca2-059e-4a5f-a228-249f6ab1b771/download/covid_alert_downloads_canada.csv')"
   ]
  },
  {
   "cell_type": "code",
   "execution_count": 21,
   "metadata": {},
   "outputs": [
    {
     "data": {
      "text/html": [
       "<div>\n",
       "<style scoped>\n",
       "    .dataframe tbody tr th:only-of-type {\n",
       "        vertical-align: middle;\n",
       "    }\n",
       "\n",
       "    .dataframe tbody tr th {\n",
       "        vertical-align: top;\n",
       "    }\n",
       "\n",
       "    .dataframe thead th {\n",
       "        text-align: right;\n",
       "    }\n",
       "</style>\n",
       "<table border=\"1\" class=\"dataframe\">\n",
       "  <thead>\n",
       "    <tr style=\"text-align: right;\">\n",
       "      <th></th>\n",
       "      <th>date</th>\n",
       "      <th>cumulative_ios_downloads_canada</th>\n",
       "      <th>cumulative_android_downloads_canada</th>\n",
       "      <th>cumulative_total_downloads_canada</th>\n",
       "      <th>daily_ios_downloads_canada</th>\n",
       "      <th>daily_android_downloads_canada</th>\n",
       "      <th>daily_total_downloads_canada</th>\n",
       "    </tr>\n",
       "  </thead>\n",
       "  <tbody>\n",
       "    <tr>\n",
       "      <th>0</th>\n",
       "      <td>2020-07-30</td>\n",
       "      <td>189</td>\n",
       "      <td>1,909</td>\n",
       "      <td>2,098</td>\n",
       "      <td>189</td>\n",
       "      <td>1,909</td>\n",
       "      <td>2,098</td>\n",
       "    </tr>\n",
       "    <tr>\n",
       "      <th>1</th>\n",
       "      <td>2020-07-31</td>\n",
       "      <td>326,519</td>\n",
       "      <td>262,575</td>\n",
       "      <td>589,094</td>\n",
       "      <td>326,330</td>\n",
       "      <td>260,666</td>\n",
       "      <td>586,996</td>\n",
       "    </tr>\n",
       "    <tr>\n",
       "      <th>2</th>\n",
       "      <td>2020-08-01</td>\n",
       "      <td>630,961</td>\n",
       "      <td>386,470</td>\n",
       "      <td>1,017,431</td>\n",
       "      <td>304,442</td>\n",
       "      <td>123,895</td>\n",
       "      <td>428,337</td>\n",
       "    </tr>\n",
       "    <tr>\n",
       "      <th>3</th>\n",
       "      <td>2020-08-02</td>\n",
       "      <td>759,283</td>\n",
       "      <td>436,716</td>\n",
       "      <td>1,195,999</td>\n",
       "      <td>128,322</td>\n",
       "      <td>50,246</td>\n",
       "      <td>178,568</td>\n",
       "    </tr>\n",
       "    <tr>\n",
       "      <th>4</th>\n",
       "      <td>2020-08-03</td>\n",
       "      <td>835,095</td>\n",
       "      <td>483,562</td>\n",
       "      <td>1,318,657</td>\n",
       "      <td>75,812</td>\n",
       "      <td>46,846</td>\n",
       "      <td>122,658</td>\n",
       "    </tr>\n",
       "  </tbody>\n",
       "</table>\n",
       "</div>"
      ],
      "text/plain": [
       "         date cumulative_ios_downloads_canada  \\\n",
       "0  2020-07-30                             189   \n",
       "1  2020-07-31                         326,519   \n",
       "2  2020-08-01                         630,961   \n",
       "3  2020-08-02                         759,283   \n",
       "4  2020-08-03                         835,095   \n",
       "\n",
       "  cumulative_android_downloads_canada cumulative_total_downloads_canada  \\\n",
       "0                               1,909                             2,098   \n",
       "1                             262,575                           589,094   \n",
       "2                             386,470                         1,017,431   \n",
       "3                             436,716                         1,195,999   \n",
       "4                             483,562                         1,318,657   \n",
       "\n",
       "  daily_ios_downloads_canada daily_android_downloads_canada  \\\n",
       "0                        189                          1,909   \n",
       "1                    326,330                        260,666   \n",
       "2                    304,442                        123,895   \n",
       "3                    128,322                         50,246   \n",
       "4                     75,812                         46,846   \n",
       "\n",
       "  daily_total_downloads_canada  \n",
       "0                        2,098  \n",
       "1                      586,996  \n",
       "2                      428,337  \n",
       "3                      178,568  \n",
       "4                      122,658  "
      ]
     },
     "execution_count": 21,
     "metadata": {},
     "output_type": "execute_result"
    }
   ],
   "source": [
    "df.head()"
   ]
  },
  {
   "cell_type": "code",
   "execution_count": 22,
   "metadata": {},
   "outputs": [
    {
     "data": {
      "text/plain": [
       "(351, 7)"
      ]
     },
     "execution_count": 22,
     "metadata": {},
     "output_type": "execute_result"
    }
   ],
   "source": [
    "df.shape"
   ]
  },
  {
   "cell_type": "code",
   "execution_count": 23,
   "metadata": {},
   "outputs": [],
   "source": [
    "# change the data column to pandas datetime from a string object.\n",
    "df['date'] = pd.to_datetime(df['date'])"
   ]
  },
  {
   "cell_type": "code",
   "execution_count": 24,
   "metadata": {},
   "outputs": [],
   "source": [
    "# I am going to remove all commas from the numbers in the dataframe so that \n",
    "# I can easily change their type to integers.\n",
    "df.replace(',','', regex=True, inplace=True)"
   ]
  },
  {
   "cell_type": "code",
   "execution_count": 25,
   "metadata": {},
   "outputs": [],
   "source": [
    "df[['cumulative_ios_downloads_canada',\n",
    "       'cumulative_android_downloads_canada',\n",
    "       'cumulative_total_downloads_canada', 'daily_ios_downloads_canada',\n",
    "       'daily_android_downloads_canada', 'daily_total_downloads_canada']] = df[['cumulative_ios_downloads_canada',\n",
    "       'cumulative_android_downloads_canada',\n",
    "       'cumulative_total_downloads_canada', 'daily_ios_downloads_canada',\n",
    "       'daily_android_downloads_canada', 'daily_total_downloads_canada']].astype(int)"
   ]
  },
  {
   "cell_type": "code",
   "execution_count": 26,
   "metadata": {},
   "outputs": [
    {
     "data": {
      "text/html": [
       "<div>\n",
       "<style scoped>\n",
       "    .dataframe tbody tr th:only-of-type {\n",
       "        vertical-align: middle;\n",
       "    }\n",
       "\n",
       "    .dataframe tbody tr th {\n",
       "        vertical-align: top;\n",
       "    }\n",
       "\n",
       "    .dataframe thead th {\n",
       "        text-align: right;\n",
       "    }\n",
       "</style>\n",
       "<table border=\"1\" class=\"dataframe\">\n",
       "  <thead>\n",
       "    <tr style=\"text-align: right;\">\n",
       "      <th></th>\n",
       "      <th>date</th>\n",
       "      <th>cumulative_ios_downloads_canada</th>\n",
       "      <th>cumulative_android_downloads_canada</th>\n",
       "      <th>cumulative_total_downloads_canada</th>\n",
       "      <th>daily_ios_downloads_canada</th>\n",
       "      <th>daily_android_downloads_canada</th>\n",
       "      <th>daily_total_downloads_canada</th>\n",
       "    </tr>\n",
       "  </thead>\n",
       "  <tbody>\n",
       "    <tr>\n",
       "      <th>346</th>\n",
       "      <td>2021-07-11</td>\n",
       "      <td>3805988</td>\n",
       "      <td>2789399</td>\n",
       "      <td>6595387</td>\n",
       "      <td>378</td>\n",
       "      <td>521</td>\n",
       "      <td>899</td>\n",
       "    </tr>\n",
       "    <tr>\n",
       "      <th>347</th>\n",
       "      <td>2021-07-12</td>\n",
       "      <td>3806468</td>\n",
       "      <td>2789988</td>\n",
       "      <td>6596456</td>\n",
       "      <td>480</td>\n",
       "      <td>589</td>\n",
       "      <td>1069</td>\n",
       "    </tr>\n",
       "    <tr>\n",
       "      <th>348</th>\n",
       "      <td>2021-07-13</td>\n",
       "      <td>3806950</td>\n",
       "      <td>2790663</td>\n",
       "      <td>6597613</td>\n",
       "      <td>482</td>\n",
       "      <td>675</td>\n",
       "      <td>1157</td>\n",
       "    </tr>\n",
       "    <tr>\n",
       "      <th>349</th>\n",
       "      <td>2021-07-14</td>\n",
       "      <td>3807346</td>\n",
       "      <td>2791153</td>\n",
       "      <td>6598499</td>\n",
       "      <td>396</td>\n",
       "      <td>490</td>\n",
       "      <td>886</td>\n",
       "    </tr>\n",
       "    <tr>\n",
       "      <th>350</th>\n",
       "      <td>2021-07-15</td>\n",
       "      <td>3807614</td>\n",
       "      <td>2791666</td>\n",
       "      <td>6599280</td>\n",
       "      <td>268</td>\n",
       "      <td>513</td>\n",
       "      <td>781</td>\n",
       "    </tr>\n",
       "  </tbody>\n",
       "</table>\n",
       "</div>"
      ],
      "text/plain": [
       "          date  cumulative_ios_downloads_canada  \\\n",
       "346 2021-07-11                          3805988   \n",
       "347 2021-07-12                          3806468   \n",
       "348 2021-07-13                          3806950   \n",
       "349 2021-07-14                          3807346   \n",
       "350 2021-07-15                          3807614   \n",
       "\n",
       "     cumulative_android_downloads_canada  cumulative_total_downloads_canada  \\\n",
       "346                              2789399                            6595387   \n",
       "347                              2789988                            6596456   \n",
       "348                              2790663                            6597613   \n",
       "349                              2791153                            6598499   \n",
       "350                              2791666                            6599280   \n",
       "\n",
       "     daily_ios_downloads_canada  daily_android_downloads_canada  \\\n",
       "346                         378                             521   \n",
       "347                         480                             589   \n",
       "348                         482                             675   \n",
       "349                         396                             490   \n",
       "350                         268                             513   \n",
       "\n",
       "     daily_total_downloads_canada  \n",
       "346                           899  \n",
       "347                          1069  \n",
       "348                          1157  \n",
       "349                           886  \n",
       "350                           781  "
      ]
     },
     "execution_count": 26,
     "metadata": {},
     "output_type": "execute_result"
    }
   ],
   "source": [
    "df.tail()"
   ]
  },
  {
   "cell_type": "code",
   "execution_count": 27,
   "metadata": {},
   "outputs": [
    {
     "data": {
      "text/plain": [
       "date                                   datetime64[ns]\n",
       "cumulative_ios_downloads_canada                 int64\n",
       "cumulative_android_downloads_canada             int64\n",
       "cumulative_total_downloads_canada               int64\n",
       "daily_ios_downloads_canada                      int64\n",
       "daily_android_downloads_canada                  int64\n",
       "daily_total_downloads_canada                    int64\n",
       "dtype: object"
      ]
     },
     "execution_count": 27,
     "metadata": {},
     "output_type": "execute_result"
    }
   ],
   "source": [
    "df.dtypes"
   ]
  },
  {
   "cell_type": "markdown",
   "metadata": {},
   "source": [
    "# Total daily downloads of CovidAlert App\n",
    "\n",
    "When the application was released there was a surge of downloads.  There was a second small surge in October for some reason."
   ]
  },
  {
   "cell_type": "markdown",
   "metadata": {},
   "source": [
    "# Daily Total, Android and IOS Downloads"
   ]
  },
  {
   "cell_type": "code",
   "execution_count": 28,
   "metadata": {},
   "outputs": [
    {
     "data": {
      "image/png": "[encoded data removed]",
      "text/plain": [
       "<Figure size 1008x432 with 1 Axes>"
      ]
     },
     "metadata": {},
     "output_type": "display_data"
    }
   ],
   "source": [
    "\n",
    "plt.figure(figsize=(14,6))\n",
    "plt.title('Daily Download of Covid Alert App', fontsize=20)\n",
    "sns.lineplot(data=df, x='date', y='daily_total_downloads_canada')\n",
    "sns.lineplot(data=df, x='date', y='daily_ios_downloads_canada')\n",
    "sns.lineplot(data=df, x='date', y='daily_android_downloads_canada')\n",
    "plt.legend(('Total Daily Downloads','Apple iOS', 'Google Android'))\n",
    "plt.ylabel('Daily Downloads', fontsize=15)\n",
    "plt.xlabel('Date', fontsize=15)\n",
    "plt.yticks(fontsize=12)\n",
    "plt.xticks(fontsize=12)\n",
    "plt.show()"
   ]
  },
  {
   "cell_type": "markdown",
   "metadata": {},
   "source": [
    "\n",
    "I was interested in the October Spike.  Downloads spike out of nowhere on October 5 and 6.  A quick google of the covid alert app for that timeframe indicates the first day the app was released in Quebec.\n",
    "\n",
    "https://globalnews.ca/news/7378466/quebec-coronavirus-october-5/"
   ]
  },
  {
   "cell_type": "code",
   "execution_count": 37,
   "metadata": {},
   "outputs": [
    {
     "data": {
      "text/html": [
       "<div>\n",
       "<style scoped>\n",
       "    .dataframe tbody tr th:only-of-type {\n",
       "        vertical-align: middle;\n",
       "    }\n",
       "\n",
       "    .dataframe tbody tr th {\n",
       "        vertical-align: top;\n",
       "    }\n",
       "\n",
       "    .dataframe thead th {\n",
       "        text-align: right;\n",
       "    }\n",
       "</style>\n",
       "<table border=\"1\" class=\"dataframe\">\n",
       "  <thead>\n",
       "    <tr style=\"text-align: right;\">\n",
       "      <th></th>\n",
       "      <th>date</th>\n",
       "      <th>daily_total_downloads_canada</th>\n",
       "    </tr>\n",
       "  </thead>\n",
       "  <tbody>\n",
       "    <tr>\n",
       "      <th>1</th>\n",
       "      <td>2020-07-31</td>\n",
       "      <td>586996</td>\n",
       "    </tr>\n",
       "    <tr>\n",
       "      <th>2</th>\n",
       "      <td>2020-08-01</td>\n",
       "      <td>428337</td>\n",
       "    </tr>\n",
       "    <tr>\n",
       "      <th>67</th>\n",
       "      <td>2020-10-05</td>\n",
       "      <td>306440</td>\n",
       "    </tr>\n",
       "    <tr>\n",
       "      <th>68</th>\n",
       "      <td>2020-10-06</td>\n",
       "      <td>287270</td>\n",
       "    </tr>\n",
       "    <tr>\n",
       "      <th>3</th>\n",
       "      <td>2020-08-02</td>\n",
       "      <td>178568</td>\n",
       "    </tr>\n",
       "    <tr>\n",
       "      <th>69</th>\n",
       "      <td>2020-10-07</td>\n",
       "      <td>143955</td>\n",
       "    </tr>\n",
       "    <tr>\n",
       "      <th>5</th>\n",
       "      <td>2020-08-04</td>\n",
       "      <td>129862</td>\n",
       "    </tr>\n",
       "    <tr>\n",
       "      <th>4</th>\n",
       "      <td>2020-08-03</td>\n",
       "      <td>122658</td>\n",
       "    </tr>\n",
       "    <tr>\n",
       "      <th>6</th>\n",
       "      <td>2020-08-05</td>\n",
       "      <td>108852</td>\n",
       "    </tr>\n",
       "    <tr>\n",
       "      <th>7</th>\n",
       "      <td>2020-08-06</td>\n",
       "      <td>99268</td>\n",
       "    </tr>\n",
       "    <tr>\n",
       "      <th>71</th>\n",
       "      <td>2020-10-09</td>\n",
       "      <td>90341</td>\n",
       "    </tr>\n",
       "    <tr>\n",
       "      <th>70</th>\n",
       "      <td>2020-10-08</td>\n",
       "      <td>87718</td>\n",
       "    </tr>\n",
       "    <tr>\n",
       "      <th>55</th>\n",
       "      <td>2020-09-23</td>\n",
       "      <td>77527</td>\n",
       "    </tr>\n",
       "    <tr>\n",
       "      <th>63</th>\n",
       "      <td>2020-10-01</td>\n",
       "      <td>72535</td>\n",
       "    </tr>\n",
       "    <tr>\n",
       "      <th>75</th>\n",
       "      <td>2020-10-13</td>\n",
       "      <td>66556</td>\n",
       "    </tr>\n",
       "    <tr>\n",
       "      <th>77</th>\n",
       "      <td>2020-10-15</td>\n",
       "      <td>65964</td>\n",
       "    </tr>\n",
       "    <tr>\n",
       "      <th>74</th>\n",
       "      <td>2020-10-12</td>\n",
       "      <td>65222</td>\n",
       "    </tr>\n",
       "    <tr>\n",
       "      <th>64</th>\n",
       "      <td>2020-10-02</td>\n",
       "      <td>65057</td>\n",
       "    </tr>\n",
       "    <tr>\n",
       "      <th>61</th>\n",
       "      <td>2020-09-29</td>\n",
       "      <td>63588</td>\n",
       "    </tr>\n",
       "    <tr>\n",
       "      <th>56</th>\n",
       "      <td>2020-09-24</td>\n",
       "      <td>61402</td>\n",
       "    </tr>\n",
       "  </tbody>\n",
       "</table>\n",
       "</div>"
      ],
      "text/plain": [
       "         date  daily_total_downloads_canada\n",
       "1  2020-07-31                        586996\n",
       "2  2020-08-01                        428337\n",
       "67 2020-10-05                        306440\n",
       "68 2020-10-06                        287270\n",
       "3  2020-08-02                        178568\n",
       "69 2020-10-07                        143955\n",
       "5  2020-08-04                        129862\n",
       "4  2020-08-03                        122658\n",
       "6  2020-08-05                        108852\n",
       "7  2020-08-06                         99268\n",
       "71 2020-10-09                         90341\n",
       "70 2020-10-08                         87718\n",
       "55 2020-09-23                         77527\n",
       "63 2020-10-01                         72535\n",
       "75 2020-10-13                         66556\n",
       "77 2020-10-15                         65964\n",
       "74 2020-10-12                         65222\n",
       "64 2020-10-02                         65057\n",
       "61 2020-09-29                         63588\n",
       "56 2020-09-24                         61402"
      ]
     },
     "execution_count": 37,
     "metadata": {},
     "output_type": "execute_result"
    }
   ],
   "source": [
    "df[['date','daily_total_downloads_canada']].sort_values(by='daily_total_downloads_canada', ascending=False).head(20)"
   ]
  },
  {
   "cell_type": "code",
   "execution_count": 30,
   "metadata": {},
   "outputs": [
    {
     "data": {
      "image/png": "[encoded data removed]",
      "text/plain": [
       "<Figure size 432x288 with 1 Axes>"
      ]
     },
     "metadata": {},
     "output_type": "display_data"
    }
   ],
   "source": [
    "df[['cumulative_ios_downloads_canada', 'cumulative_android_downloads_canada']].tail(1).plot(kind='bar')\n",
    "plt.title('Downloads by Mobile OS', fontsize=20)\n",
    "plt.xlabel('Mobile OS', fontsize=15)\n",
    "plt.ylabel('Downloads (Millions)', fontsize=15)\n",
    "plt.xticks(ticks=[])\n",
    "plt.yticks(fontsize=12)\n",
    "plt.legend(('iOS', 'Android'))\n",
    "plt.show()"
   ]
  },
  {
   "cell_type": "markdown",
   "metadata": {},
   "source": [
    "## Smartphone Penetration Rate in Canada in 2018\n",
    "\n",
    "88.1% of Canadians have a smartphone\n",
    "\n",
    "Source https://www150.statcan.gc.ca/t1/tbl1/en/tv.action?pid=2210011501"
   ]
  },
  {
   "cell_type": "code",
   "execution_count": 31,
   "metadata": {},
   "outputs": [
    {
     "name": "stdout",
     "output_type": "stream",
     "text": [
      "Total number of phones in canada: 33478000.0\n"
     ]
    }
   ],
   "source": [
    "smart_phone_penetration = 0.881\n",
    "canada_population = 38000000 # from world info meter.  rounded down.\n",
    "phones_total = canada_population * smart_phone_penetration\n",
    "print('Total number of phones in canada:', phones_total)"
   ]
  },
  {
   "cell_type": "code",
   "execution_count": 32,
   "metadata": {},
   "outputs": [
    {
     "data": {
      "text/plain": [
       "6599280"
      ]
     },
     "execution_count": 32,
     "metadata": {},
     "output_type": "execute_result"
    }
   ],
   "source": [
    "total_downloads = df['cumulative_total_downloads_canada'].max()\n",
    "total_downloads"
   ]
  },
  {
   "cell_type": "markdown",
   "metadata": {},
   "source": [
    "## Percentage of downloads in relation to the amount of phones\n",
    "\n",
    "The percentage of users that download the covid alert app is about 19%.  In reality this would be much lower as it does not account for users with multiple phones or tablet devices, or users who would have downloaded the app more than once on the same device.\n",
    "\n",
    "I estimate that it could be as little as 10 to 15% of users.\n",
    "\n",
    "This would indicate a failure to convince Canadians of the benefit of contact tracing."
   ]
  },
  {
   "cell_type": "code",
   "execution_count": 33,
   "metadata": {},
   "outputs": [
    {
     "name": "stdout",
     "output_type": "stream",
     "text": [
      "Percentage of people that download Covid Alert: 19.7\n"
     ]
    }
   ],
   "source": [
    "perc_downloads = round(((total_downloads / phones_total) * 100), 1)\n",
    "print('Percentage of people that download Covid Alert:', perc_downloads)"
   ]
  },
  {
   "cell_type": "markdown",
   "metadata": {},
   "source": [
    "## Other Stuff"
   ]
  },
  {
   "cell_type": "code",
   "execution_count": 34,
   "metadata": {},
   "outputs": [
    {
     "data": {
      "text/html": [
       "<div>\n",
       "<style scoped>\n",
       "    .dataframe tbody tr th:only-of-type {\n",
       "        vertical-align: middle;\n",
       "    }\n",
       "\n",
       "    .dataframe tbody tr th {\n",
       "        vertical-align: top;\n",
       "    }\n",
       "\n",
       "    .dataframe thead th {\n",
       "        text-align: right;\n",
       "    }\n",
       "</style>\n",
       "<table border=\"1\" class=\"dataframe\">\n",
       "  <thead>\n",
       "    <tr style=\"text-align: right;\">\n",
       "      <th></th>\n",
       "      <th>daily_ios_downloads_canada</th>\n",
       "      <th>daily_android_downloads_canada</th>\n",
       "      <th>daily_total_downloads_canada</th>\n",
       "    </tr>\n",
       "  </thead>\n",
       "  <tbody>\n",
       "    <tr>\n",
       "      <th>sum</th>\n",
       "      <td>3.807614e+06</td>\n",
       "      <td>2.791666e+06</td>\n",
       "      <td>6.599280e+06</td>\n",
       "    </tr>\n",
       "    <tr>\n",
       "      <th>min</th>\n",
       "      <td>1.890000e+02</td>\n",
       "      <td>3.700000e+02</td>\n",
       "      <td>7.760000e+02</td>\n",
       "    </tr>\n",
       "    <tr>\n",
       "      <th>max</th>\n",
       "      <td>3.263300e+05</td>\n",
       "      <td>2.606660e+05</td>\n",
       "      <td>5.869960e+05</td>\n",
       "    </tr>\n",
       "    <tr>\n",
       "      <th>mean</th>\n",
       "      <td>1.084790e+04</td>\n",
       "      <td>7.953464e+03</td>\n",
       "      <td>1.880137e+04</td>\n",
       "    </tr>\n",
       "    <tr>\n",
       "      <th>median</th>\n",
       "      <td>4.400000e+03</td>\n",
       "      <td>3.209000e+03</td>\n",
       "      <td>7.751000e+03</td>\n",
       "    </tr>\n",
       "  </tbody>\n",
       "</table>\n",
       "</div>"
      ],
      "text/plain": [
       "        daily_ios_downloads_canada  daily_android_downloads_canada  \\\n",
       "sum                   3.807614e+06                    2.791666e+06   \n",
       "min                   1.890000e+02                    3.700000e+02   \n",
       "max                   3.263300e+05                    2.606660e+05   \n",
       "mean                  1.084790e+04                    7.953464e+03   \n",
       "median                4.400000e+03                    3.209000e+03   \n",
       "\n",
       "        daily_total_downloads_canada  \n",
       "sum                     6.599280e+06  \n",
       "min                     7.760000e+02  \n",
       "max                     5.869960e+05  \n",
       "mean                    1.880137e+04  \n",
       "median                  7.751000e+03  "
      ]
     },
     "execution_count": 34,
     "metadata": {},
     "output_type": "execute_result"
    }
   ],
   "source": [
    "df[['daily_ios_downloads_canada', 'daily_android_downloads_canada', 'daily_total_downloads_canada']].agg(['sum', 'min', 'max', 'mean', 'median'])"
   ]
  },
  {
   "cell_type": "code",
   "execution_count": 35,
   "metadata": {},
   "outputs": [],
   "source": [
    "# Last month\n",
    "df_past_month = df.tail(30)\n",
    "df30sum = df_past_month['daily_total_downloads_canada'].sum()"
   ]
  },
  {
   "cell_type": "code",
   "execution_count": 36,
   "metadata": {},
   "outputs": [
    {
     "name": "stdout",
     "output_type": "stream",
     "text": [
      "Fact Sheet\n",
      "----------\n",
      "Total Downloads: 6599280\n",
      "Total Apple: 3807614\n",
      "Total Android: 2791666\n",
      "Average Downloads per day: 18801.36752136752\n",
      "Median Downloads per day: 7751.0\n",
      "Most Downloads in a day: 586996\n",
      "Least number of Downloads in a day: 776\n",
      "\n",
      "Average Downloads per day in past month: 954.5666666666667\n"
     ]
    }
   ],
   "source": [
    "print(\"Fact Sheet\")\n",
    "print(\"----------\")\n",
    "print('Total Downloads:', total_downloads)\n",
    "print('Total Apple:', df['cumulative_ios_downloads_canada'].max())\n",
    "print('Total Android:', df['cumulative_android_downloads_canada'].max())\n",
    "print('Average Downloads per day:', df['daily_total_downloads_canada'].mean())\n",
    "print('Median Downloads per day:', df['daily_total_downloads_canada'].median())\n",
    "print('Most Downloads in a day:', df['daily_total_downloads_canada'].max())\n",
    "print('Least number of Downloads in a day:', df['daily_total_downloads_canada'].min())\n",
    "print()\n",
    "print('Average Downloads per day in past month:', df30sum / 30)"
   ]
  },
  {
   "cell_type": "code",
   "execution_count": null,
   "metadata": {},
   "outputs": [],
   "source": []
  }
 ],
 "metadata": {
  "hide_input": false,
  "kernelspec": {
   "display_name": "Python 3",
   "language": "python",
   "name": "python3"
  },
  "language_info": {
   "codemirror_mode": {
    "name": "ipython",
    "version": 3
   },
   "file_extension": ".py",
   "mimetype": "text/x-python",
   "name": "python",
   "nbconvert_exporter": "python",
   "pygments_lexer": "ipython3",
   "version": "3.6.7"
  }
 },
 "nbformat": 4,
 "nbformat_minor": 4
}
