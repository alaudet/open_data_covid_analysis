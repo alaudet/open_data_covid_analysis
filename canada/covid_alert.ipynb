{
 "cells": [
  {
   "cell_type": "markdown",
   "metadata": {},
   "source": [
    "# Canada Covid Alert App\n",
    "\n",
    "When the Canadian government released the contact tracing CovidAlert app for mobile phones I thought it was a great idea to help with contact tracing.  The idea being that you would get alerted if you came in contact with someone who was infected so that you could self isolate before the onset of symptoms.  In theory this would all help limit the spread.\n",
    "\n",
    "Unfortunately it never took off as hoped.  This analysis will only look at downloads and what we could possibly derive from the data."
   ]
  },
  {
   "cell_type": "markdown",
   "metadata": {},
   "source": [
    "# Import the libraries"
   ]
  },
  {
   "cell_type": "code",
   "execution_count": 1,
   "metadata": {},
   "outputs": [],
   "source": [
    "import pandas as pd\n",
    "import matplotlib\n",
    "pd.plotting.register_matplotlib_converters()\n",
    "import matplotlib.pyplot as plt\n",
    "%matplotlib inline\n",
    "import seaborn as sns\n",
    "sns.set_style(\"whitegrid\")"
   ]
  },
  {
   "cell_type": "markdown",
   "metadata": {},
   "source": [
    "## The Canadian government releases a daily dataset of Covid Alert downloads to Apple iOS and Google Android"
   ]
  },
  {
   "cell_type": "code",
   "execution_count": 2,
   "metadata": {},
   "outputs": [],
   "source": [
    "df = pd.read_csv('https://data.ontario.ca/dataset/06a61019-62c1-48d8-8d4d-2267ae0f1144/resource/37cfeca2-059e-4a5f-a228-249f6ab1b771/download/covid_alert_downloads_canada.csv')"
   ]
  },
  {
   "cell_type": "code",
   "execution_count": 3,
   "metadata": {},
   "outputs": [
    {
     "data": {
      "text/html": [
       "<div>\n",
       "<style scoped>\n",
       "    .dataframe tbody tr th:only-of-type {\n",
       "        vertical-align: middle;\n",
       "    }\n",
       "\n",
       "    .dataframe tbody tr th {\n",
       "        vertical-align: top;\n",
       "    }\n",
       "\n",
       "    .dataframe thead th {\n",
       "        text-align: right;\n",
       "    }\n",
       "</style>\n",
       "<table border=\"1\" class=\"dataframe\">\n",
       "  <thead>\n",
       "    <tr style=\"text-align: right;\">\n",
       "      <th></th>\n",
       "      <th>date</th>\n",
       "      <th>cumulative_ios_downloads_canada</th>\n",
       "      <th>cumulative_android_downloads_canada</th>\n",
       "      <th>cumulative_total_downloads_canada</th>\n",
       "      <th>daily_ios_downloads_canada</th>\n",
       "      <th>daily_android_downloads_canada</th>\n",
       "      <th>daily_total_downloads_canada</th>\n",
       "    </tr>\n",
       "  </thead>\n",
       "  <tbody>\n",
       "    <tr>\n",
       "      <th>0</th>\n",
       "      <td>2020-07-30</td>\n",
       "      <td>189</td>\n",
       "      <td>1,909</td>\n",
       "      <td>2,098</td>\n",
       "      <td>189</td>\n",
       "      <td>1,909</td>\n",
       "      <td>2,098</td>\n",
       "    </tr>\n",
       "    <tr>\n",
       "      <th>1</th>\n",
       "      <td>2020-07-31</td>\n",
       "      <td>326,519</td>\n",
       "      <td>262,575</td>\n",
       "      <td>589,094</td>\n",
       "      <td>326,330</td>\n",
       "      <td>260,666</td>\n",
       "      <td>586,996</td>\n",
       "    </tr>\n",
       "    <tr>\n",
       "      <th>2</th>\n",
       "      <td>2020-08-01</td>\n",
       "      <td>630,961</td>\n",
       "      <td>386,470</td>\n",
       "      <td>1,017,431</td>\n",
       "      <td>304,442</td>\n",
       "      <td>123,895</td>\n",
       "      <td>428,337</td>\n",
       "    </tr>\n",
       "    <tr>\n",
       "      <th>3</th>\n",
       "      <td>2020-08-02</td>\n",
       "      <td>759,283</td>\n",
       "      <td>436,716</td>\n",
       "      <td>1,195,999</td>\n",
       "      <td>128,322</td>\n",
       "      <td>50,246</td>\n",
       "      <td>178,568</td>\n",
       "    </tr>\n",
       "    <tr>\n",
       "      <th>4</th>\n",
       "      <td>2020-08-03</td>\n",
       "      <td>835,095</td>\n",
       "      <td>483,562</td>\n",
       "      <td>1,318,657</td>\n",
       "      <td>75,812</td>\n",
       "      <td>46,846</td>\n",
       "      <td>122,658</td>\n",
       "    </tr>\n",
       "  </tbody>\n",
       "</table>\n",
       "</div>"
      ],
      "text/plain": [
       "         date cumulative_ios_downloads_canada  \\\n",
       "0  2020-07-30                             189   \n",
       "1  2020-07-31                         326,519   \n",
       "2  2020-08-01                         630,961   \n",
       "3  2020-08-02                         759,283   \n",
       "4  2020-08-03                         835,095   \n",
       "\n",
       "  cumulative_android_downloads_canada cumulative_total_downloads_canada  \\\n",
       "0                               1,909                             2,098   \n",
       "1                             262,575                           589,094   \n",
       "2                             386,470                         1,017,431   \n",
       "3                             436,716                         1,195,999   \n",
       "4                             483,562                         1,318,657   \n",
       "\n",
       "  daily_ios_downloads_canada daily_android_downloads_canada  \\\n",
       "0                        189                          1,909   \n",
       "1                    326,330                        260,666   \n",
       "2                    304,442                        123,895   \n",
       "3                    128,322                         50,246   \n",
       "4                     75,812                         46,846   \n",
       "\n",
       "  daily_total_downloads_canada  \n",
       "0                        2,098  \n",
       "1                      586,996  \n",
       "2                      428,337  \n",
       "3                      178,568  \n",
       "4                      122,658  "
      ]
     },
     "execution_count": 3,
     "metadata": {},
     "output_type": "execute_result"
    }
   ],
   "source": [
    "df.head()"
   ]
  },
  {
   "cell_type": "code",
   "execution_count": 4,
   "metadata": {},
   "outputs": [
    {
     "data": {
      "text/plain": [
       "(330, 7)"
      ]
     },
     "execution_count": 4,
     "metadata": {},
     "output_type": "execute_result"
    }
   ],
   "source": [
    "df.shape"
   ]
  },
  {
   "cell_type": "code",
   "execution_count": 5,
   "metadata": {},
   "outputs": [],
   "source": [
    "# change the data column to pandas datetime from a string object.\n",
    "df['date'] = pd.to_datetime(df['date'])"
   ]
  },
  {
   "cell_type": "code",
   "execution_count": 6,
   "metadata": {},
   "outputs": [],
   "source": [
    "# I am going to remove all commas from the numbers in the dataframe so that \n",
    "# I can easily change their type to integers.\n",
    "df.replace(',','', regex=True, inplace=True)"
   ]
  },
  {
   "cell_type": "code",
   "execution_count": 7,
   "metadata": {},
   "outputs": [],
   "source": [
    "df[['cumulative_ios_downloads_canada',\n",
    "       'cumulative_android_downloads_canada',\n",
    "       'cumulative_total_downloads_canada', 'daily_ios_downloads_canada',\n",
    "       'daily_android_downloads_canada', 'daily_total_downloads_canada']] = df[['cumulative_ios_downloads_canada',\n",
    "       'cumulative_android_downloads_canada',\n",
    "       'cumulative_total_downloads_canada', 'daily_ios_downloads_canada',\n",
    "       'daily_android_downloads_canada', 'daily_total_downloads_canada']].astype(int)"
   ]
  },
  {
   "cell_type": "code",
   "execution_count": 8,
   "metadata": {},
   "outputs": [
    {
     "data": {
      "text/html": [
       "<div>\n",
       "<style scoped>\n",
       "    .dataframe tbody tr th:only-of-type {\n",
       "        vertical-align: middle;\n",
       "    }\n",
       "\n",
       "    .dataframe tbody tr th {\n",
       "        vertical-align: top;\n",
       "    }\n",
       "\n",
       "    .dataframe thead th {\n",
       "        text-align: right;\n",
       "    }\n",
       "</style>\n",
       "<table border=\"1\" class=\"dataframe\">\n",
       "  <thead>\n",
       "    <tr style=\"text-align: right;\">\n",
       "      <th></th>\n",
       "      <th>date</th>\n",
       "      <th>cumulative_ios_downloads_canada</th>\n",
       "      <th>cumulative_android_downloads_canada</th>\n",
       "      <th>cumulative_total_downloads_canada</th>\n",
       "      <th>daily_ios_downloads_canada</th>\n",
       "      <th>daily_android_downloads_canada</th>\n",
       "      <th>daily_total_downloads_canada</th>\n",
       "    </tr>\n",
       "  </thead>\n",
       "  <tbody>\n",
       "    <tr>\n",
       "      <th>325</th>\n",
       "      <td>2021-06-20</td>\n",
       "      <td>3796898</td>\n",
       "      <td>2778380</td>\n",
       "      <td>6575271</td>\n",
       "      <td>379</td>\n",
       "      <td>409</td>\n",
       "      <td>788</td>\n",
       "    </tr>\n",
       "    <tr>\n",
       "      <th>326</th>\n",
       "      <td>2021-06-21</td>\n",
       "      <td>3797391</td>\n",
       "      <td>2778982</td>\n",
       "      <td>6576366</td>\n",
       "      <td>493</td>\n",
       "      <td>602</td>\n",
       "      <td>1095</td>\n",
       "    </tr>\n",
       "    <tr>\n",
       "      <th>327</th>\n",
       "      <td>2021-06-22</td>\n",
       "      <td>3797939</td>\n",
       "      <td>2779528</td>\n",
       "      <td>6577460</td>\n",
       "      <td>548</td>\n",
       "      <td>546</td>\n",
       "      <td>1094</td>\n",
       "    </tr>\n",
       "    <tr>\n",
       "      <th>328</th>\n",
       "      <td>2021-06-23</td>\n",
       "      <td>3798432</td>\n",
       "      <td>2780043</td>\n",
       "      <td>6578468</td>\n",
       "      <td>493</td>\n",
       "      <td>515</td>\n",
       "      <td>1008</td>\n",
       "    </tr>\n",
       "    <tr>\n",
       "      <th>329</th>\n",
       "      <td>2021-06-24</td>\n",
       "      <td>3798831</td>\n",
       "      <td>2780486</td>\n",
       "      <td>6579310</td>\n",
       "      <td>399</td>\n",
       "      <td>443</td>\n",
       "      <td>842</td>\n",
       "    </tr>\n",
       "  </tbody>\n",
       "</table>\n",
       "</div>"
      ],
      "text/plain": [
       "          date  cumulative_ios_downloads_canada  \\\n",
       "325 2021-06-20                          3796898   \n",
       "326 2021-06-21                          3797391   \n",
       "327 2021-06-22                          3797939   \n",
       "328 2021-06-23                          3798432   \n",
       "329 2021-06-24                          3798831   \n",
       "\n",
       "     cumulative_android_downloads_canada  cumulative_total_downloads_canada  \\\n",
       "325                              2778380                            6575271   \n",
       "326                              2778982                            6576366   \n",
       "327                              2779528                            6577460   \n",
       "328                              2780043                            6578468   \n",
       "329                              2780486                            6579310   \n",
       "\n",
       "     daily_ios_downloads_canada  daily_android_downloads_canada  \\\n",
       "325                         379                             409   \n",
       "326                         493                             602   \n",
       "327                         548                             546   \n",
       "328                         493                             515   \n",
       "329                         399                             443   \n",
       "\n",
       "     daily_total_downloads_canada  \n",
       "325                           788  \n",
       "326                          1095  \n",
       "327                          1094  \n",
       "328                          1008  \n",
       "329                           842  "
      ]
     },
     "execution_count": 8,
     "metadata": {},
     "output_type": "execute_result"
    }
   ],
   "source": [
    "df.tail()"
   ]
  },
  {
   "cell_type": "code",
   "execution_count": 9,
   "metadata": {},
   "outputs": [
    {
     "data": {
      "text/plain": [
       "date                                   datetime64[ns]\n",
       "cumulative_ios_downloads_canada                 int64\n",
       "cumulative_android_downloads_canada             int64\n",
       "cumulative_total_downloads_canada               int64\n",
       "daily_ios_downloads_canada                      int64\n",
       "daily_android_downloads_canada                  int64\n",
       "daily_total_downloads_canada                    int64\n",
       "dtype: object"
      ]
     },
     "execution_count": 9,
     "metadata": {},
     "output_type": "execute_result"
    }
   ],
   "source": [
    "df.dtypes"
   ]
  },
  {
   "cell_type": "markdown",
   "metadata": {},
   "source": [
    "# Total daily downloads of CovidAlert App\n",
    "\n",
    "When the application was released there was a surge of downloads.  There was a second small surge in October for some reason."
   ]
  },
  {
   "cell_type": "markdown",
   "metadata": {},
   "source": [
    "# Daily Total, Android and IOS Downloads"
   ]
  },
  {
   "cell_type": "code",
   "execution_count": 10,
   "metadata": {},
   "outputs": [
    {
     "data": {
      "image/png": "[encoded data removed]",
      "text/plain": [
       "<Figure size 1008x432 with 1 Axes>"
      ]
     },
     "metadata": {
      "needs_background": "light"
     },
     "output_type": "display_data"
    }
   ],
   "source": [
    "\n",
    "plt.figure(figsize=(14,6))\n",
    "plt.title('Daily Download of Covid Alert App', fontsize=20)\n",
    "sns.lineplot(data=df, x='date', y='daily_total_downloads_canada')\n",
    "sns.lineplot(data=df, x='date', y='daily_ios_downloads_canada')\n",
    "sns.lineplot(data=df, x='date', y='daily_android_downloads_canada')\n",
    "plt.legend(('Total Daily Downloads','Apple iOS', 'Google Android'))\n",
    "plt.ylabel('Daily Downloads', fontsize=15)\n",
    "plt.xlabel('Date', fontsize=15)\n",
    "plt.yticks(fontsize=12)\n",
    "plt.xticks(fontsize=12)\n",
    "plt.show()"
   ]
  },
  {
   "cell_type": "code",
   "execution_count": 11,
   "metadata": {},
   "outputs": [
    {
     "data": {
      "image/png": "[encoded data removed]",
      "text/plain": [
       "<Figure size 432x288 with 1 Axes>"
      ]
     },
     "metadata": {
      "needs_background": "light"
     },
     "output_type": "display_data"
    }
   ],
   "source": [
    "df[['cumulative_ios_downloads_canada', 'cumulative_android_downloads_canada']].tail(1).plot(kind='bar')\n",
    "plt.title('Downloads by Mobile OS', fontsize=20)\n",
    "plt.xlabel('Mobile OS', fontsize=15)\n",
    "plt.ylabel('Downloads (Millions)', fontsize=15)\n",
    "plt.xticks(ticks=[])\n",
    "plt.yticks(fontsize=12)\n",
    "plt.legend(('iOS', 'Android'))\n",
    "plt.show()"
   ]
  },
  {
   "cell_type": "markdown",
   "metadata": {},
   "source": [
    "## Smartphone Penetration Rate in Canada in 2018\n",
    "\n",
    "88.1% of Canadians have a smartphone\n",
    "\n",
    "Source https://www150.statcan.gc.ca/t1/tbl1/en/tv.action?pid=2210011501"
   ]
  },
  {
   "cell_type": "code",
   "execution_count": 12,
   "metadata": {},
   "outputs": [
    {
     "name": "stdout",
     "output_type": "stream",
     "text": [
      "Total number of phones in canada: 33478000.0\n"
     ]
    }
   ],
   "source": [
    "smart_phone_penetration = 0.881\n",
    "canada_population = 38000000 # from world info meter.  rounded down.\n",
    "phones_total = canada_population * smart_phone_penetration\n",
    "print('Total number of phones in canada:', phones_total)"
   ]
  },
  {
   "cell_type": "code",
   "execution_count": 13,
   "metadata": {},
   "outputs": [
    {
     "data": {
      "text/plain": [
       "6579310"
      ]
     },
     "execution_count": 13,
     "metadata": {},
     "output_type": "execute_result"
    }
   ],
   "source": [
    "total_downloads = df['cumulative_total_downloads_canada'].max()\n",
    "total_downloads"
   ]
  },
  {
   "cell_type": "markdown",
   "metadata": {},
   "source": [
    "## Percentage of downloads in relation to the amount of phones\n",
    "\n",
    "The percentage of users that download the covid alert app is about 19%.  In reality this would be much lower as it does not account for users with multiple phones or tablet devices, or users who would have downloaded the app more than once on the same device.\n",
    "\n",
    "I estimate that it could be as little as 10 to 15% of users.\n",
    "\n",
    "This would indicate a failure to convince Canadians of the benefit of contact tracing."
   ]
  },
  {
   "cell_type": "code",
   "execution_count": 14,
   "metadata": {},
   "outputs": [
    {
     "name": "stdout",
     "output_type": "stream",
     "text": [
      "Percentage of people that download Covid Alert: 19.7\n"
     ]
    }
   ],
   "source": [
    "perc_downloads = round(((total_downloads / phones_total) * 100), 1)\n",
    "print('Percentage of people that download Covid Alert:', perc_downloads)"
   ]
  },
  {
   "cell_type": "markdown",
   "metadata": {},
   "source": [
    "## Other Stuff"
   ]
  },
  {
   "cell_type": "code",
   "execution_count": 15,
   "metadata": {},
   "outputs": [
    {
     "data": {
      "text/html": [
       "<div>\n",
       "<style scoped>\n",
       "    .dataframe tbody tr th:only-of-type {\n",
       "        vertical-align: middle;\n",
       "    }\n",
       "\n",
       "    .dataframe tbody tr th {\n",
       "        vertical-align: top;\n",
       "    }\n",
       "\n",
       "    .dataframe thead th {\n",
       "        text-align: right;\n",
       "    }\n",
       "</style>\n",
       "<table border=\"1\" class=\"dataframe\">\n",
       "  <thead>\n",
       "    <tr style=\"text-align: right;\">\n",
       "      <th></th>\n",
       "      <th>daily_ios_downloads_canada</th>\n",
       "      <th>daily_android_downloads_canada</th>\n",
       "      <th>daily_total_downloads_canada</th>\n",
       "    </tr>\n",
       "  </thead>\n",
       "  <tbody>\n",
       "    <tr>\n",
       "      <th>sum</th>\n",
       "      <td>3.798831e+06</td>\n",
       "      <td>2.780486e+06</td>\n",
       "      <td>6.579310e+06</td>\n",
       "    </tr>\n",
       "    <tr>\n",
       "      <th>min</th>\n",
       "      <td>1.890000e+02</td>\n",
       "      <td>3.690000e+02</td>\n",
       "      <td>7.880000e+02</td>\n",
       "    </tr>\n",
       "    <tr>\n",
       "      <th>max</th>\n",
       "      <td>3.263300e+05</td>\n",
       "      <td>2.606660e+05</td>\n",
       "      <td>5.869960e+05</td>\n",
       "    </tr>\n",
       "    <tr>\n",
       "      <th>mean</th>\n",
       "      <td>1.151161e+04</td>\n",
       "      <td>8.425715e+03</td>\n",
       "      <td>1.993730e+04</td>\n",
       "    </tr>\n",
       "    <tr>\n",
       "      <th>median</th>\n",
       "      <td>4.983000e+03</td>\n",
       "      <td>3.486500e+03</td>\n",
       "      <td>8.793500e+03</td>\n",
       "    </tr>\n",
       "  </tbody>\n",
       "</table>\n",
       "</div>"
      ],
      "text/plain": [
       "        daily_ios_downloads_canada  daily_android_downloads_canada  \\\n",
       "sum                   3.798831e+06                    2.780486e+06   \n",
       "min                   1.890000e+02                    3.690000e+02   \n",
       "max                   3.263300e+05                    2.606660e+05   \n",
       "mean                  1.151161e+04                    8.425715e+03   \n",
       "median                4.983000e+03                    3.486500e+03   \n",
       "\n",
       "        daily_total_downloads_canada  \n",
       "sum                     6.579310e+06  \n",
       "min                     7.880000e+02  \n",
       "max                     5.869960e+05  \n",
       "mean                    1.993730e+04  \n",
       "median                  8.793500e+03  "
      ]
     },
     "execution_count": 15,
     "metadata": {},
     "output_type": "execute_result"
    }
   ],
   "source": [
    "df[['daily_ios_downloads_canada', 'daily_android_downloads_canada', 'daily_total_downloads_canada']].agg(['sum', 'min', 'max', 'mean', 'median'])"
   ]
  },
  {
   "cell_type": "code",
   "execution_count": 16,
   "metadata": {},
   "outputs": [],
   "source": [
    "# Last month\n",
    "df_past_month = df.tail(30)\n",
    "df30sum = df_past_month['daily_total_downloads_canada'].sum()"
   ]
  },
  {
   "cell_type": "code",
   "execution_count": 17,
   "metadata": {},
   "outputs": [
    {
     "name": "stdout",
     "output_type": "stream",
     "text": [
      "Fact Sheet\n",
      "----------\n",
      "Total Downloads: 6579310\n",
      "Total Apple: 3798831\n",
      "Total Android: 2780486\n",
      "Average Downloads per day: 19937.303030303032\n",
      "Median Downloads per day: 8793.5\n",
      "Most Downloads in a day: 586996\n",
      "Least number of Downloads in a day: 788\n",
      "\n",
      "Average Downloads per day in past month: 1030.0\n"
     ]
    }
   ],
   "source": [
    "print(\"Fact Sheet\")\n",
    "print(\"----------\")\n",
    "print('Total Downloads:', total_downloads)\n",
    "print('Total Apple:', df['cumulative_ios_downloads_canada'].max())\n",
    "print('Total Android:', df['cumulative_android_downloads_canada'].max())\n",
    "print('Average Downloads per day:', df['daily_total_downloads_canada'].mean())\n",
    "print('Median Downloads per day:', df['daily_total_downloads_canada'].median())\n",
    "print('Most Downloads in a day:', df['daily_total_downloads_canada'].max())\n",
    "print('Least number of Downloads in a day:', df['daily_total_downloads_canada'].min())\n",
    "print()\n",
    "print('Average Downloads per day in past month:', df30sum / 30)"
   ]
  },
  {
   "cell_type": "code",
   "execution_count": null,
   "metadata": {},
   "outputs": [],
   "source": []
  }
 ],
 "metadata": {
  "kernelspec": {
   "display_name": "Python 3",
   "language": "python",
   "name": "python3"
  },
  "language_info": {
   "codemirror_mode": {
    "name": "ipython",
    "version": 3
   },
   "file_extension": ".py",
   "mimetype": "text/x-python",
   "name": "python",
   "nbconvert_exporter": "python",
   "pygments_lexer": "ipython3",
   "version": "3.6.7"
  }
 },
 "nbformat": 4,
 "nbformat_minor": 4
}
